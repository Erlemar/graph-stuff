{
 "cells": [
  {
   "cell_type": "code",
   "execution_count": 1,
   "metadata": {},
   "outputs": [],
   "source": [
    "import pandas as pd\n",
    "import numpy as np\n",
    "import matplotlib.pyplot as plt\n",
    "%matplotlib inline\n",
    "from tqdm import tqdm, tqdm_notebook"
   ]
  },
  {
   "cell_type": "markdown",
   "metadata": {},
   "source": [
    "# Graph Convolutions on Pandas"
   ]
  },
  {
   "cell_type": "markdown",
   "metadata": {},
   "source": [
    "## What's going on?"
   ]
  },
  {
   "cell_type": "markdown",
   "metadata": {},
   "source": [
    "Here is an example how simple graph convolutions can be made using the power of table frameworks like pandas. There are several ways to define a convolution on graph data. Here graph convolutions are treated as a simple aggregation of neighbors for each vertex.\n",
    "\n",
    "Step by step:\n",
    "1. get all neighbors for each node\n",
    "2. apply a pooling function to the list of neigbors\n",
    "3. repeat if you need\n",
    "\n",
    "In this example we are given edges dataframe and nodes features. Mean function is used as a pooling. Example function is common enough, so it can be easily used for bipartite graphs. It also suitable for large graphs due to chunking."
   ]
  },
  {
   "cell_type": "markdown",
   "metadata": {},
   "source": [
    "## Why?\n",
    "For the glory of Satan of course!  \n",
    "There are a lot of cool approaches with a lot of math behind them, but most of that approaches will not work with huge graphs. Table frameworks that are able to join, groupby and aggregate give us the great power to make graph convolutions feasible at large scales."
   ]
  },
  {
   "cell_type": "code",
   "execution_count": 1,
   "metadata": {},
   "outputs": [],
   "source": [
    "def chunker(seq, size):\n",
    "    \"\"\"https://stackoverflow.com/a/434328\"\"\"\n",
    "    return (seq[pos: pos + size] for pos in range(0, len(seq), size))\n",
    "\n",
    "def make_conv(edges, feats, cols, by, on, size=1000000, agg_f='mean',\n",
    "                      prefix='mean_'):\n",
    "    \"\"\"\n",
    "    edges -- edgelist: pandas dataframe with two columns (arguments by and on)\n",
    "    feats -- features dataframe with key column (argument on) \n",
    "             and features columns (argument cols)\n",
    "    by -- column in edges to be used as source nodes\n",
    "    on -- column in edges to be used as neighbor nodes\n",
    "    size -- number of unique source nodes to be used in one chunk\n",
    "    agg_f -- can be interpreted as pooling function. \n",
    "             Pandas has several optimised functions for basic statistics,\n",
    "             that can be passed as string arg (see pandas docs),\n",
    "             but you also can provide any function you like\n",
    "    prefix -- prefix for new column names             \n",
    "    \"\"\"\n",
    "    res_feats = [] # used to stack result chunks\n",
    "\n",
    "    # get chunk of unique source nodes\n",
    "    for chunk in tqdm(chunker(edges[by].unique(), size=size), \n",
    "                      total=(len(edges[by].unique()) // size) + 1):\n",
    "        # for each chunk we get feature matrix for neighbours\n",
    "        temp = edges[edges[by].isin(chunk)]\\\n",
    "                .merge(feats, on=on, how='left')\n",
    "        # convolve and pool\n",
    "        tempgb = temp[cols + [by, on]]\\\n",
    "                .groupby(by).agg({col: agg_f for col in cols}).reset_index()\n",
    "        res_feats.append(tempgb.rename(columns={c: prefix + c for c in cols}))\n",
    "    # concat results\n",
    "    return pd.concat(res_feats, axis=0).reset_index(drop=True)"
   ]
  },
  {
   "cell_type": "markdown",
   "metadata": {},
   "source": [
    "Make simple graph: 101 nodes, each connected with two neighbors. Simply chain of nodes."
   ]
  },
  {
   "cell_type": "code",
   "execution_count": 3,
   "metadata": {},
   "outputs": [],
   "source": [
    "ara = np.arange(101).reshape(-1, 1)\n",
    "sample = np.vstack((np.hstack((ara[:-1], ara[1:])), # forward links\n",
    "                    np.hstack((ara[1:], ara[:-1])))) # backward links"
   ]
  },
  {
   "cell_type": "markdown",
   "metadata": {},
   "source": [
    "Make random features"
   ]
  },
  {
   "cell_type": "code",
   "execution_count": 4,
   "metadata": {},
   "outputs": [],
   "source": [
    "feats = np.random.normal(size=(101, 10))"
   ]
  },
  {
   "cell_type": "markdown",
   "metadata": {},
   "source": [
    "Create dataframes from arrays"
   ]
  },
  {
   "cell_type": "code",
   "execution_count": 6,
   "metadata": {},
   "outputs": [],
   "source": [
    "edges = pd.DataFrame(sample, columns=['source', 'target'])\n",
    "cols = ['col{}'.format(i) for i in range(10)]\n",
    "feats = pd.DataFrame(feats, columns=cols)\n",
    "feats['target'] = ara"
   ]
  },
  {
   "cell_type": "markdown",
   "metadata": {},
   "source": [
    "This is how the feature matrix looks like"
   ]
  },
  {
   "cell_type": "code",
   "execution_count": 15,
   "metadata": {},
   "outputs": [
    {
     "data": {
      "image/png": "[encoded data removed]",
      "text/plain": [
       "<Figure size 216x576 with 1 Axes>"
      ]
     },
     "metadata": {
      "needs_background": "light"
     },
     "output_type": "display_data"
    }
   ],
   "source": [
    "plt.figure(figsize=(3, 8))\n",
    "plt.imshow(feats.values[:, :-1], cmap='jet');"
   ]
  },
  {
   "cell_type": "markdown",
   "metadata": {},
   "source": [
    "## First convolution"
   ]
  },
  {
   "cell_type": "code",
   "execution_count": 7,
   "metadata": {},
   "outputs": [
    {
     "name": "stderr",
     "output_type": "stream",
     "text": [
      "100%|██████████| 1/1 [00:00<00:00, 67.25it/s]\n"
     ]
    }
   ],
   "source": [
    "conv1 = make_conv(edges, feats, cols, 'source', 'target')"
   ]
  },
  {
   "cell_type": "code",
   "execution_count": 8,
   "metadata": {},
   "outputs": [
    {
     "data": {
      "text/html": [
       "<div>\n",
       "<style scoped>\n",
       "    .dataframe tbody tr th:only-of-type {\n",
       "        vertical-align: middle;\n",
       "    }\n",
       "\n",
       "    .dataframe tbody tr th {\n",
       "        vertical-align: top;\n",
       "    }\n",
       "\n",
       "    .dataframe thead th {\n",
       "        text-align: right;\n",
       "    }\n",
       "</style>\n",
       "<table border=\"1\" class=\"dataframe\">\n",
       "  <thead>\n",
       "    <tr style=\"text-align: right;\">\n",
       "      <th></th>\n",
       "      <th>source</th>\n",
       "      <th>mean_col0</th>\n",
       "      <th>mean_col1</th>\n",
       "      <th>mean_col2</th>\n",
       "      <th>mean_col3</th>\n",
       "      <th>mean_col4</th>\n",
       "      <th>mean_col5</th>\n",
       "      <th>mean_col6</th>\n",
       "      <th>mean_col7</th>\n",
       "      <th>mean_col8</th>\n",
       "      <th>mean_col9</th>\n",
       "    </tr>\n",
       "  </thead>\n",
       "  <tbody>\n",
       "    <tr>\n",
       "      <th>0</th>\n",
       "      <td>0</td>\n",
       "      <td>0.730085</td>\n",
       "      <td>0.428604</td>\n",
       "      <td>-0.967305</td>\n",
       "      <td>-0.927957</td>\n",
       "      <td>-0.648321</td>\n",
       "      <td>-1.529437</td>\n",
       "      <td>0.288742</td>\n",
       "      <td>0.642841</td>\n",
       "      <td>-0.240322</td>\n",
       "      <td>-0.686550</td>\n",
       "    </tr>\n",
       "    <tr>\n",
       "      <th>1</th>\n",
       "      <td>1</td>\n",
       "      <td>0.651642</td>\n",
       "      <td>-0.683116</td>\n",
       "      <td>-0.179200</td>\n",
       "      <td>-1.069835</td>\n",
       "      <td>0.824370</td>\n",
       "      <td>0.202663</td>\n",
       "      <td>-0.247970</td>\n",
       "      <td>-0.769478</td>\n",
       "      <td>-0.604019</td>\n",
       "      <td>0.006299</td>\n",
       "    </tr>\n",
       "    <tr>\n",
       "      <th>2</th>\n",
       "      <td>2</td>\n",
       "      <td>0.749263</td>\n",
       "      <td>0.077546</td>\n",
       "      <td>-0.472234</td>\n",
       "      <td>-1.326084</td>\n",
       "      <td>-1.266701</td>\n",
       "      <td>-0.928092</td>\n",
       "      <td>0.004736</td>\n",
       "      <td>0.990368</td>\n",
       "      <td>-0.250484</td>\n",
       "      <td>-0.116420</td>\n",
       "    </tr>\n",
       "    <tr>\n",
       "      <th>3</th>\n",
       "      <td>3</td>\n",
       "      <td>0.284014</td>\n",
       "      <td>-0.788309</td>\n",
       "      <td>-0.719696</td>\n",
       "      <td>-0.625851</td>\n",
       "      <td>0.258956</td>\n",
       "      <td>0.450587</td>\n",
       "      <td>0.204037</td>\n",
       "      <td>-0.627669</td>\n",
       "      <td>-0.277296</td>\n",
       "      <td>-0.296346</td>\n",
       "    </tr>\n",
       "    <tr>\n",
       "      <th>4</th>\n",
       "      <td>4</td>\n",
       "      <td>1.012357</td>\n",
       "      <td>-0.862818</td>\n",
       "      <td>-0.838706</td>\n",
       "      <td>-0.779575</td>\n",
       "      <td>-1.250686</td>\n",
       "      <td>0.492440</td>\n",
       "      <td>0.426747</td>\n",
       "      <td>0.723831</td>\n",
       "      <td>0.232588</td>\n",
       "      <td>0.665481</td>\n",
       "    </tr>\n",
       "  </tbody>\n",
       "</table>\n",
       "</div>"
      ],
      "text/plain": [
       "   source  mean_col0  mean_col1  mean_col2  mean_col3  mean_col4  mean_col5  \\\n",
       "0       0   0.730085   0.428604  -0.967305  -0.927957  -0.648321  -1.529437   \n",
       "1       1   0.651642  -0.683116  -0.179200  -1.069835   0.824370   0.202663   \n",
       "2       2   0.749263   0.077546  -0.472234  -1.326084  -1.266701  -0.928092   \n",
       "3       3   0.284014  -0.788309  -0.719696  -0.625851   0.258956   0.450587   \n",
       "4       4   1.012357  -0.862818  -0.838706  -0.779575  -1.250686   0.492440   \n",
       "\n",
       "   mean_col6  mean_col7  mean_col8  mean_col9  \n",
       "0   0.288742   0.642841  -0.240322  -0.686550  \n",
       "1  -0.247970  -0.769478  -0.604019   0.006299  \n",
       "2   0.004736   0.990368  -0.250484  -0.116420  \n",
       "3   0.204037  -0.627669  -0.277296  -0.296346  \n",
       "4   0.426747   0.723831   0.232588   0.665481  "
      ]
     },
     "execution_count": 8,
     "metadata": {},
     "output_type": "execute_result"
    }
   ],
   "source": [
    "conv1.head()"
   ]
  },
  {
   "cell_type": "markdown",
   "metadata": {},
   "source": [
    "First 10 columns are raw nodes features, next 10 are smoothed between neighbors. It's the same as box blur in image processing."
   ]
  },
  {
   "cell_type": "code",
   "execution_count": 9,
   "metadata": {},
   "outputs": [
    {
     "data": {
      "image/png": "[encoded data removed]",
      "text/plain": [
       "<Figure size 216x576 with 1 Axes>"
      ]
     },
     "metadata": {
      "needs_background": "light"
     },
     "output_type": "display_data"
    }
   ],
   "source": [
    "plt.figure(figsize=(3, 8))\n",
    "plt.imshow(np.hstack((feats[cols].values,\n",
    "                      conv1.values[:, 1:])), cmap='jet');"
   ]
  },
  {
   "cell_type": "code",
   "execution_count": 10,
   "metadata": {},
   "outputs": [
    {
     "data": {
      "text/html": [
       "<div>\n",
       "<style scoped>\n",
       "    .dataframe tbody tr th:only-of-type {\n",
       "        vertical-align: middle;\n",
       "    }\n",
       "\n",
       "    .dataframe tbody tr th {\n",
       "        vertical-align: top;\n",
       "    }\n",
       "\n",
       "    .dataframe thead th {\n",
       "        text-align: right;\n",
       "    }\n",
       "</style>\n",
       "<table border=\"1\" class=\"dataframe\">\n",
       "  <thead>\n",
       "    <tr style=\"text-align: right;\">\n",
       "      <th></th>\n",
       "      <th>source</th>\n",
       "      <th>mean_col0</th>\n",
       "      <th>mean_col1</th>\n",
       "      <th>mean_col2</th>\n",
       "      <th>mean_col3</th>\n",
       "      <th>mean_col4</th>\n",
       "      <th>mean_col5</th>\n",
       "      <th>mean_col6</th>\n",
       "      <th>mean_col7</th>\n",
       "      <th>mean_col8</th>\n",
       "      <th>mean_col9</th>\n",
       "    </tr>\n",
       "  </thead>\n",
       "  <tbody>\n",
       "    <tr>\n",
       "      <th>0</th>\n",
       "      <td>0</td>\n",
       "      <td>0.730085</td>\n",
       "      <td>0.428604</td>\n",
       "      <td>-0.967305</td>\n",
       "      <td>-0.927957</td>\n",
       "      <td>-0.648321</td>\n",
       "      <td>-1.529437</td>\n",
       "      <td>0.288742</td>\n",
       "      <td>0.642841</td>\n",
       "      <td>-0.240322</td>\n",
       "      <td>-0.686550</td>\n",
       "    </tr>\n",
       "    <tr>\n",
       "      <th>1</th>\n",
       "      <td>1</td>\n",
       "      <td>0.651642</td>\n",
       "      <td>-0.683116</td>\n",
       "      <td>-0.179200</td>\n",
       "      <td>-1.069835</td>\n",
       "      <td>0.824370</td>\n",
       "      <td>0.202663</td>\n",
       "      <td>-0.247970</td>\n",
       "      <td>-0.769478</td>\n",
       "      <td>-0.604019</td>\n",
       "      <td>0.006299</td>\n",
       "    </tr>\n",
       "    <tr>\n",
       "      <th>2</th>\n",
       "      <td>2</td>\n",
       "      <td>0.749263</td>\n",
       "      <td>0.077546</td>\n",
       "      <td>-0.472234</td>\n",
       "      <td>-1.326084</td>\n",
       "      <td>-1.266701</td>\n",
       "      <td>-0.928092</td>\n",
       "      <td>0.004736</td>\n",
       "      <td>0.990368</td>\n",
       "      <td>-0.250484</td>\n",
       "      <td>-0.116420</td>\n",
       "    </tr>\n",
       "    <tr>\n",
       "      <th>3</th>\n",
       "      <td>3</td>\n",
       "      <td>0.284014</td>\n",
       "      <td>-0.788309</td>\n",
       "      <td>-0.719696</td>\n",
       "      <td>-0.625851</td>\n",
       "      <td>0.258956</td>\n",
       "      <td>0.450587</td>\n",
       "      <td>0.204037</td>\n",
       "      <td>-0.627669</td>\n",
       "      <td>-0.277296</td>\n",
       "      <td>-0.296346</td>\n",
       "    </tr>\n",
       "    <tr>\n",
       "      <th>4</th>\n",
       "      <td>4</td>\n",
       "      <td>1.012357</td>\n",
       "      <td>-0.862818</td>\n",
       "      <td>-0.838706</td>\n",
       "      <td>-0.779575</td>\n",
       "      <td>-1.250686</td>\n",
       "      <td>0.492440</td>\n",
       "      <td>0.426747</td>\n",
       "      <td>0.723831</td>\n",
       "      <td>0.232588</td>\n",
       "      <td>0.665481</td>\n",
       "    </tr>\n",
       "  </tbody>\n",
       "</table>\n",
       "</div>"
      ],
      "text/plain": [
       "   source  mean_col0  mean_col1  mean_col2  mean_col3  mean_col4  mean_col5  \\\n",
       "0       0   0.730085   0.428604  -0.967305  -0.927957  -0.648321  -1.529437   \n",
       "1       1   0.651642  -0.683116  -0.179200  -1.069835   0.824370   0.202663   \n",
       "2       2   0.749263   0.077546  -0.472234  -1.326084  -1.266701  -0.928092   \n",
       "3       3   0.284014  -0.788309  -0.719696  -0.625851   0.258956   0.450587   \n",
       "4       4   1.012357  -0.862818  -0.838706  -0.779575  -1.250686   0.492440   \n",
       "\n",
       "   mean_col6  mean_col7  mean_col8  mean_col9  \n",
       "0   0.288742   0.642841  -0.240322  -0.686550  \n",
       "1  -0.247970  -0.769478  -0.604019   0.006299  \n",
       "2   0.004736   0.990368  -0.250484  -0.116420  \n",
       "3   0.204037  -0.627669  -0.277296  -0.296346  \n",
       "4   0.426747   0.723831   0.232588   0.665481  "
      ]
     },
     "execution_count": 10,
     "metadata": {},
     "output_type": "execute_result"
    }
   ],
   "source": [
    "conv1.head()"
   ]
  },
  {
   "cell_type": "markdown",
   "metadata": {},
   "source": [
    "## Second convolution"
   ]
  },
  {
   "cell_type": "code",
   "execution_count": 11,
   "metadata": {
    "scrolled": true
   },
   "outputs": [
    {
     "name": "stderr",
     "output_type": "stream",
     "text": [
      "100%|██████████| 1/1 [00:00<00:00, 80.04it/s]\n"
     ]
    }
   ],
   "source": [
    "cols = list(conv1.columns)[1:]\n",
    "conv2 = make_conv(edges, conv1.rename(columns={'source': 'target'}), cols, 'source', 'target')"
   ]
  },
  {
   "cell_type": "code",
   "execution_count": 12,
   "metadata": {},
   "outputs": [
    {
     "data": {
      "text/plain": [
       "(101, 11)"
      ]
     },
     "execution_count": 12,
     "metadata": {},
     "output_type": "execute_result"
    }
   ],
   "source": [
    "conv2.shape"
   ]
  },
  {
   "cell_type": "markdown",
   "metadata": {},
   "source": [
    "First convolution features contains information about neighbors. Second step features contains information about neigbors of neighbors."
   ]
  },
  {
   "cell_type": "code",
   "execution_count": 13,
   "metadata": {},
   "outputs": [
    {
     "data": {
      "image/png": "[encoded data removed]",
      "text/plain": [
       "<Figure size 216x576 with 1 Axes>"
      ]
     },
     "metadata": {
      "needs_background": "light"
     },
     "output_type": "display_data"
    }
   ],
   "source": [
    "plt.figure(figsize=(3, 8))\n",
    "plt.imshow(np.hstack((feats.values[:, :-1],\n",
    "                      conv1.values[:, 1:],\n",
    "                      conv2.values[:, 1:])), cmap='jet');"
   ]
  }
 ],
 "metadata": {
  "kernelspec": {
   "display_name": "Python 3.6",
   "language": "python",
   "name": "py36venv"
  },
  "language_info": {
   "codemirror_mode": {
    "name": "ipython",
    "version": 3
   },
   "file_extension": ".py",
   "mimetype": "text/x-python",
   "name": "python",
   "nbconvert_exporter": "python",
   "pygments_lexer": "ipython3",
   "version": "3.6.6"
  },
  "toc": {
   "base_numbering": 1,
   "nav_menu": {},
   "number_sections": true,
   "sideBar": true,
   "skip_h1_title": false,
   "title_cell": "Table of Contents",
   "title_sidebar": "Contents",
   "toc_cell": false,
   "toc_position": {},
   "toc_section_display": true,
   "toc_window_display": false
  }
 },
 "nbformat": 4,
 "nbformat_minor": 2
}
